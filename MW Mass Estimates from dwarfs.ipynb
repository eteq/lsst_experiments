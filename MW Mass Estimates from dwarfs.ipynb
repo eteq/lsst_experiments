{
 "cells": [
  {
   "cell_type": "code",
   "execution_count": 5,
   "metadata": {
    "collapsed": true
   },
   "outputs": [],
   "source": [
    "import numpy as np\n",
    "from importlib import reload\n",
    "\n",
    "from astropy import units as u\n",
    "from astropy import constants as cnst\n",
    "\n",
    "from astropy.visualization import hist as ahist"
   ]
  },
  {
   "cell_type": "code",
   "execution_count": 6,
   "metadata": {
    "collapsed": true
   },
   "outputs": [],
   "source": [
    "%matplotlib inline\n",
    "from matplotlib import pyplot as plt\n",
    "from matplotlib import rcParams, style\n",
    "rcParams['axes.prop_cycle'] = style.library['seaborn-deep']['axes.prop_cycle']"
   ]
  },
  {
   "cell_type": "code",
   "execution_count": 13,
   "metadata": {
    "collapsed": true
   },
   "outputs": [],
   "source": [
    "def los_estimator(r, vs, alpha=1, beta=0, gamma=3):\n",
    "    rout = np.max(r)\n",
    "    C = (alpha + gamma - 2*beta) / (3-2*beta) * rout**(1-alpha)\n",
    "    return (C/cnst.G * np.mean(vs**2  * r**alpha)).to(u.solMass)"
   ]
  },
  {
   "cell_type": "code",
   "execution_count": 14,
   "metadata": {
    "collapsed": false
   },
   "outputs": [
    {
     "data": {
      "text/latex": [
       "$3.7191023 \\times 10^{8} \\; \\mathrm{M_{\\odot}}$"
      ],
      "text/plain": [
       "<Quantity 371910226.0608006 solMass>"
      ]
     },
     "execution_count": 14,
     "metadata": {},
     "output_type": "execute_result"
    }
   ],
   "source": [
    "los_estimator([1,2,3]*u.kpc, [10,20,30]*u.km/u.s)"
   ]
  }
 ],
 "metadata": {
  "kernelspec": {
   "display_name": "Python 3",
   "language": "python",
   "name": "python3"
  },
  "language_info": {
   "codemirror_mode": {
    "name": "ipython",
    "version": 3
   },
   "file_extension": ".py",
   "mimetype": "text/x-python",
   "name": "python",
   "nbconvert_exporter": "python",
   "pygments_lexer": "ipython3",
   "version": "3.5.1"
  }
 },
 "nbformat": 4,
 "nbformat_minor": 0
}
