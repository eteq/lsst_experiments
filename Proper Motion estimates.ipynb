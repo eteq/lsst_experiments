{
 "cells": [
  {
   "cell_type": "code",
   "execution_count": 1,
   "metadata": {
    "collapsed": true
   },
   "outputs": [],
   "source": [
    "# %load /Users/erik/defaults.py\n",
    "import numpy as np\n",
    "\n",
    "from astropy import units as u\n",
    "from astropy.coordinates import SkyCoord\n",
    "from astropy.table import Table\n",
    "from astropy import modeling\n",
    "\n",
    "%matplotlib inline\n",
    "from matplotlib import rcParams\n",
    "from matplotlib import pyplot as plt\n",
    "from mpl_toolkits.mplot3d import Axes3D"
   ]
  },
  {
   "cell_type": "code",
   "execution_count": 2,
   "metadata": {
    "collapsed": false
   },
   "outputs": [],
   "source": [
    "# http://dan.iel.fm/george\n",
    "#import george"
   ]
  },
  {
   "cell_type": "markdown",
   "metadata": {},
   "source": [
    "PM expectations from http://arxiv.org/abs/0805.2366, TAble 3, pg 22 (in v4)"
   ]
  },
  {
   "cell_type": "code",
   "execution_count": 3,
   "metadata": {
    "collapsed": true
   },
   "outputs": [],
   "source": [
    "lsst_expected = Table()\n",
    "\n",
    "lsst_expected['r'] = [21, 22 ,23, 24]*u.mag\n",
    "lsst_expected['r'].description = 'magnitude of target'\n",
    "\n",
    "lsst_expected['sig_xy'] = [11, 15, 31, 74]*u.mas\n",
    "lsst_expected['sig_xy'].description = 'Typical astrometric accuracy (rms per coordinate per visit)'\n",
    "\n",
    "lsst_expected['sig_pi'] = [0.6, 0.8, 1.3, 2.9]*u.mas\n",
    "lsst_expected['sig_pi'].description = 'Parallax accuracy for 10 year long survey'\n",
    "\n",
    "lsst_expected['sig_mu'] = [0.2, 0.3, 0.5, 1.]*u.mas/u.yr\n",
    "lsst_expected['sig_mu'].description = 'Proper motion accuracy for 10 year long survey'\n",
    "\n",
    "lsst_expected['sig_1'] = [0.01, 0.02, 0.04, 0.1]*u.mag\n",
    "lsst_expected['sig_1'].description = 'Photometric error for single visit'\n",
    "\n",
    "lsst_expected['sig_C'] = [0.005, 0.005, 0.006, 0.009]*u.mag\n",
    "lsst_expected['sig_C'].description = 'Photometric error for coadded observations'"
   ]
  },
  {
   "cell_type": "markdown",
   "metadata": {},
   "source": [
    "# First figure out how to map from point-source PMs to bulk PMs "
   ]
  },
  {
   "cell_type": "code",
   "execution_count": 4,
   "metadata": {
    "collapsed": false
   },
   "outputs": [
    {
     "data": {
      "text/plain": [
       "<PowerLaw1D(amplitude=0.15497442638492737, x_0=21.0, alpha=-13.836555526351784)>"
      ]
     },
     "execution_count": 4,
     "metadata": {},
     "output_type": "execute_result"
    },
    {
     "data": {
      "image/png": "[encoded data removed]",
      "text/plain": [
       "<matplotlib.figure.Figure at 0x111c59ef0>"
      ]
     },
     "metadata": {},
     "output_type": "display_data"
    }
   ],
   "source": [
    "pl = modeling.models.PowerLaw1D(x_0=21, amplitude=.2, alpha=-15)\n",
    "pl.x_0.fixed = True\n",
    "pl = modeling.fitting.LevMarLSQFitter()(pl, lsst_expected['r'], lsst_expected['sig_mu'])\n",
    "\n",
    "\n",
    "xs = np.linspace(16,26,100)\n",
    "plt.scatter(lsst_expected['r'], lsst_expected['sig_mu'])\n",
    "plt.plot(xs, pl(xs))\n",
    "plt.xlim(xs[0], xs[-1])\n",
    "plt.ylim(0,2)\n",
    "pl"
   ]
  },
  {
   "cell_type": "code",
   "execution_count": 5,
   "metadata": {
    "collapsed": false
   },
   "outputs": [],
   "source": [
    "def pm_from_nstars(rs, distance=None):\n",
    "    pm_errs = pl(rs.to(lsst_expected['r'].unit).value)*lsst_expected['sig_mu'].unit\n",
    "    pm_std = np.sum(pm_errs**2)**0.5 * pm_errs.size**-1\n",
    "    if distance is None:\n",
    "        return pm_std\n",
    "    else:\n",
    "        return (pm_std*distance).to(u.km/u.s, u.dimensionless_angles())"
   ]
  }
 ],
 "metadata": {
  "kernelspec": {
   "display_name": "Python 3",
   "language": "python",
   "name": "python3"
  },
  "language_info": {
   "codemirror_mode": {
    "name": "ipython",
    "version": 3
   },
   "file_extension": ".py",
   "mimetype": "text/x-python",
   "name": "python",
   "nbconvert_exporter": "python",
   "pygments_lexer": "ipython3",
   "version": "3.5.1"
  }
 },
 "nbformat": 4,
 "nbformat_minor": 0
}
