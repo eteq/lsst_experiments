{
 "cells": [
  {
   "cell_type": "code",
   "execution_count": 1,
   "metadata": {
    "collapsed": true
   },
   "outputs": [],
   "source": [
    "import numpy as np\n",
    "from importlib import reload\n",
    "\n",
    "from astropy import units as u\n",
    "\n",
    "from astropy.visualization import hist as ahist"
   ]
  },
  {
   "cell_type": "code",
   "execution_count": 2,
   "metadata": {
    "collapsed": false
   },
   "outputs": [],
   "source": [
    "%matplotlib inline\n",
    "from matplotlib import pyplot as plt\n",
    "from matplotlib import rcParams, style\n",
    "rcParams['axes.prop_cycle'] = style.library['seaborn-deep']['axes.prop_cycle']"
   ]
  },
  {
   "cell_type": "code",
   "execution_count": 3,
   "metadata": {
    "collapsed": false
   },
   "outputs": [],
   "source": [
    "import data_loaders"
   ]
  },
  {
   "cell_type": "code",
   "execution_count": 4,
   "metadata": {
    "collapsed": false
   },
   "outputs": [
    {
     "name": "stdout",
     "output_type": "stream",
     "text": [
      "Loading /Users/erik/projects/lsst_experiments/elvis_data/PairedCatalogs/Hall&Oates.txt\n",
      "Loading /Users/erik/projects/lsst_experiments/elvis_data/PairedCatalogs/Hamilton&Burr.txt\n",
      "Loading /Users/erik/projects/lsst_experiments/elvis_data/PairedCatalogs/Kek&Kauket.txt\n",
      "Loading /Users/erik/projects/lsst_experiments/elvis_data/PairedCatalogs/Lincoln&Douglas.txt\n",
      "Loading /Users/erik/projects/lsst_experiments/elvis_data/PairedCatalogs/Orion&Taurus.txt\n",
      "Loading /Users/erik/projects/lsst_experiments/elvis_data/PairedCatalogs/Romulus&Remus.txt\n",
      "Loading /Users/erik/projects/lsst_experiments/elvis_data/PairedCatalogs/Scylla&Charybdis.txt\n",
      "Loading /Users/erik/projects/lsst_experiments/elvis_data/PairedCatalogs/Serena&Venus.txt\n",
      "Loading /Users/erik/projects/lsst_experiments/elvis_data/PairedCatalogs/Siegfried&Roy.txt\n",
      "Loading /Users/erik/projects/lsst_experiments/elvis_data/PairedCatalogs/Sonny&Cher.txt\n",
      "Loading /Users/erik/projects/lsst_experiments/elvis_data/PairedCatalogs/Thelma&Louise.txt\n",
      "Loading /Users/erik/projects/lsst_experiments/elvis_data/PairedCatalogs/Zeus&Hera.txt\n"
     ]
    }
   ],
   "source": [
    "elvii_pairs = data_loaders.load_elvii_z0(isolated=False)"
   ]
  },
  {
   "cell_type": "markdown",
   "metadata": {},
   "source": [
    "# Find trivial volume correction from ELVIS "
   ]
  },
  {
   "cell_type": "markdown",
   "metadata": {},
   "source": [
    "Excises M31, but does *not* include any LF detectability adjustment, so large grain-of-salt required"
   ]
  },
  {
   "cell_type": "code",
   "execution_count": 5,
   "metadata": {
    "collapsed": false
   },
   "outputs": [
    {
     "data": {
      "text/plain": [
       "(array([ 1.,  0.,  7.,  4.,  3.,  4.,  1.,  2.,  1.,  1.]),\n",
       " array([ 0.49405234,  0.52370836,  0.55336437,  0.58302039,  0.61267641,\n",
       "         0.64233243,  0.67198845,  0.70164446,  0.73130048,  0.7609565 ,\n",
       "         0.79061252]),\n",
       " <a list of 1 Patch objects>)"
      ]
     },
     "execution_count": 5,
     "metadata": {},
     "output_type": "execute_result"
    },
    {
     "data": {
      "image/png": "[encoded data removed]",
      "text/plain": [
       "<matplotlib.figure.Figure at 0x10ee44630>"
      ]
     },
     "metadata": {},
     "output_type": "display_data"
    }
   ],
   "source": [
    "fracbeyond300 = []\n",
    "for pair, tab in elvii_pairs.items():\n",
    "    for i in (0,1):\n",
    "        msk = ~tab['sat_of_{}'.format(0 if i==1 else 1)]&(tab['host{}_dist'.format(i)]<1*u.Mpc)\n",
    "        fracbeyond300.append(np.sum(tab[msk]['host{}_dist'.format(i)]>300*u.kpc)/np.sum(msk))\n",
    "ahist(fracbeyond300, bins=10, histtype='step')"
   ]
  },
  {
   "cell_type": "markdown",
   "metadata": {},
   "source": [
    "## Implied limits based on Hargis+ 14"
   ]
  },
  {
   "cell_type": "code",
   "execution_count": 6,
   "metadata": {
    "collapsed": true
   },
   "outputs": [],
   "source": [
    "hargis_gtr3 = (37,114) #>10^3\n",
    "hargis_lth3 = (131,782) #<10^3"
   ]
  },
  {
   "cell_type": "code",
   "execution_count": 7,
   "metadata": {
    "collapsed": false
   },
   "outputs": [
    {
     "data": {
      "text/plain": [
       "(array([ 2.,  2.,  1.,  4.,  4.,  3.,  6.,  1.,  0.,  1.]),\n",
       " array([  989.10652632,  1048.47869872,  1107.85087113,  1167.22304354,\n",
       "         1226.59521595,  1285.96738836,  1345.33956077,  1404.71173318,\n",
       "         1464.08390558,  1523.45607799,  1582.8282504 ]),\n",
       " <a list of 1 Patch objects>)"
      ]
     },
     "execution_count": 7,
     "metadata": {},
     "output_type": "execute_result"
    },
    {
     "data": {
      "image/png": "[encoded data removed]",
      "text/plain": [
       "<matplotlib.figure.Figure at 0x10f57a278>"
      ]
     },
     "metadata": {},
     "output_type": "display_data"
    },
    {
     "data": {
      "image/png": "[encoded data removed]",
      "text/plain": [
       "<matplotlib.figure.Figure at 0x10f035e10>"
      ]
     },
     "metadata": {},
     "output_type": "display_data"
    }
   ],
   "source": [
    "# these are the \n",
    "gtr = (37,114) #>10^3\n",
    "lth = (131,782) #<10^3\n",
    "\n",
    "gtrcorr = np.array(hargis_gtr3).reshape(2,1)*np.array(fracbeyond300)**-1\n",
    "lthcorr = np.array(hargis_lth3).reshape(2,1)*np.array(fracbeyond300)**-1\n",
    "\n",
    "ahist(gtrcorr[0], bins=10, histtype='step')\n",
    "ahist(gtrcorr[1], bins=10, histtype='step')\n",
    "\n",
    "plt.figure()\n",
    "ahist(lthcorr[0], bins=10, histtype='step')\n",
    "ahist(lthcorr[1], bins=10, histtype='step')"
   ]
  }
 ],
 "metadata": {
  "kernelspec": {
   "display_name": "Python 3",
   "language": "python",
   "name": "python3"
  },
  "language_info": {
   "codemirror_mode": {
    "name": "ipython",
    "version": 3
   },
   "file_extension": ".py",
   "mimetype": "text/x-python",
   "name": "python",
   "nbconvert_exporter": "python",
   "pygments_lexer": "ipython3",
   "version": "3.5.1"
  }
 },
 "nbformat": 4,
 "nbformat_minor": 0
}
