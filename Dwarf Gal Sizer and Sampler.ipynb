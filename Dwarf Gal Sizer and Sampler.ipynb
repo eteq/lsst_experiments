{
 "cells": [
  {
   "cell_type": "code",
   "execution_count": 1,
   "metadata": {
    "collapsed": true
   },
   "outputs": [],
   "source": [
    "import sys\n",
    "\n",
    "import numpy as np\n",
    "from importlib import reload\n",
    "\n",
    "from astropy import units as u\n",
    "from astropy import constants as cnst\n",
    "from astropy import table\n",
    "from astropy import modeling\n",
    "from astropy.coordinates import (SkyCoord, Distance, \n",
    "                                 SphericalRepresentation, \n",
    "                                 CylindricalRepresentation)\n",
    "\n",
    "from astropy.visualization import hist as ahist\n",
    "\n",
    "import data_loaders"
   ]
  },
  {
   "cell_type": "code",
   "execution_count": 2,
   "metadata": {
    "collapsed": true
   },
   "outputs": [],
   "source": [
    "%matplotlib inline\n",
    "from matplotlib import pyplot as plt\n",
    "from matplotlib import rcParams, style\n",
    "rcParams['axes.prop_cycle'] = style.library['seaborn-deep']['axes.prop_cycle']"
   ]
  },
  {
   "cell_type": "markdown",
   "metadata": {},
   "source": [
    "* Need to get Ting a dwarf LF/distance\n",
    "* Need to compute size distributions to determine fiber sep (Connie sez 5\" reasonable on Keck)"
   ]
  },
  {
   "cell_type": "markdown",
   "metadata": {},
   "source": [
    "# Load the things"
   ]
  },
  {
   "cell_type": "code",
   "execution_count": 3,
   "metadata": {
    "collapsed": false,
    "scrolled": true
   },
   "outputs": [
    {
     "name": "stdout",
     "output_type": "stream",
     "text": [
      "Loading /Users/erik/projects/lsst_experiments/elvis_data/PairedCatalogs/Hall&Oates.txt\n",
      "Loading /Users/erik/projects/lsst_experiments/elvis_data/PairedCatalogs/Hamilton&Burr.txt\n",
      "Loading /Users/erik/projects/lsst_experiments/elvis_data/PairedCatalogs/Kek&Kauket.txt\n",
      "Loading /Users/erik/projects/lsst_experiments/elvis_data/PairedCatalogs/Lincoln&Douglas.txt\n",
      "Loading /Users/erik/projects/lsst_experiments/elvis_data/PairedCatalogs/Orion&Taurus.txt\n",
      "Loading /Users/erik/projects/lsst_experiments/elvis_data/PairedCatalogs/Romulus&Remus.txt\n",
      "Loading /Users/erik/projects/lsst_experiments/elvis_data/PairedCatalogs/Scylla&Charybdis.txt\n",
      "Loading /Users/erik/projects/lsst_experiments/elvis_data/PairedCatalogs/Serena&Venus.txt\n",
      "Loading /Users/erik/projects/lsst_experiments/elvis_data/PairedCatalogs/Siegfried&Roy.txt\n",
      "Loading /Users/erik/projects/lsst_experiments/elvis_data/PairedCatalogs/Sonny&Cher.txt\n",
      "Loading /Users/erik/projects/lsst_experiments/elvis_data/PairedCatalogs/Thelma&Louise.txt\n",
      "Loading /Users/erik/projects/lsst_experiments/elvis_data/PairedCatalogs/Zeus&Hera.txt\n"
     ]
    }
   ],
   "source": [
    "elvii_pairs = data_loaders.load_elvii_z0()"
   ]
  },
  {
   "cell_type": "code",
   "execution_count": 4,
   "metadata": {
    "collapsed": false
   },
   "outputs": [
    {
     "name": "stdout",
     "output_type": "stream",
     "text": [
      "2408\n",
      "[Fe/H]: [-2.]\n",
      "[  5.01187234   5.62341325   6.30957344   7.07945784   7.94328235\n",
      "   8.91250938  10.          11.22018454  12.58925412] Gyr\n"
     ]
    },
    {
     "data": {
      "text/html": [
       "&lt;Table length=5&gt;\n",
       "<table id=\"table4612217264-100292\" class=\"table table-striped table-bordered table-condensed\">\n",
       "<thead><tr><th>Z</th><th>log(age/yr)</th><th>M_ini</th><th>M_act</th><th>logL/Lo</th><th>logTe</th><th>logG</th><th>mbol</th><th>u</th><th>g</th><th>r</th><th>i</th><th>z</th><th>Y</th><th>C/O</th><th>M_hec</th><th>period</th><th>pmode</th><th>logMdot</th><th>slope</th><th>int_IMF</th><th>stage</th></tr></thead>\n",
       "<tr><td>0.000152</td><td>9.7</td><td>0.0939592868</td><td>0.094</td><td>-3.0447</td><td>3.5143</td><td>5.4647</td><td>12.382</td><td>18.858</td><td>15.124</td><td>13.343</td><td>12.307</td><td>11.838</td><td>11.652</td><td>0.4787</td><td>0.0</td><td>0.0</td><td>1</td><td>-18.02</td><td>0.0</td><td>1.5095663071</td><td>1</td></tr>\n",
       "<tr><td>0.000152</td><td>9.7</td><td>0.0969958082</td><td>0.097</td><td>-2.963</td><td>3.5251</td><td>5.4402</td><td>12.178</td><td>18.276</td><td>14.742</td><td>13.02</td><td>12.092</td><td>11.661</td><td>11.479</td><td>0.4787</td><td>0.0</td><td>0.0</td><td>1</td><td>-18.006</td><td>0.0</td><td>1.5405944586</td><td>1</td></tr>\n",
       "<tr><td>0.000152</td><td>9.7</td><td>0.1079185754</td><td>0.1079</td><td>-2.6894</td><td>3.5614</td><td>5.3582</td><td>11.494</td><td>16.369</td><td>13.486</td><td>12.014</td><td>11.362</td><td>11.043</td><td>10.884</td><td>0.4787</td><td>0.0</td><td>0.0</td><td>1</td><td>-17.96</td><td>0.0</td><td>1.6447788477</td><td>1</td></tr>\n",
       "<tr><td>0.000152</td><td>9.7</td><td>0.1193510219</td><td>0.1193</td><td>-2.5418</td><td>3.5757</td><td>5.3116</td><td>11.124</td><td>15.568</td><td>12.912</td><td>11.555</td><td>10.976</td><td>10.693</td><td>10.543</td><td>0.4787</td><td>0.0</td><td>0.0</td><td>1</td><td>-17.916</td><td>0.0</td><td>1.7425737381</td><td>1</td></tr>\n",
       "<tr><td>0.000152</td><td>9.7</td><td>0.1279185712</td><td>0.1279</td><td>-2.4401</td><td>3.5856</td><td>5.2795</td><td>10.87</td><td>15.038</td><td>12.528</td><td>11.252</td><td>10.712</td><td>10.449</td><td>10.307</td><td>0.4787</td><td>0.0</td><td>0.0</td><td>1</td><td>-17.886</td><td>0.0</td><td>1.8095752001</td><td>1</td></tr>\n",
       "</table><style>table.dataTable {clear: both; width: auto !important; margin: 0 !important;}\n",
       ".dataTables_info, .dataTables_length, .dataTables_filter, .dataTables_paginate{\n",
       "display: inline-block; margin-right: 1em; }\n",
       ".paginate_button { margin-right: 5px; }\n",
       "</style>\n",
       "<script>\n",
       "require.config({paths: {\n",
       "    datatables: 'https://cdn.datatables.net/1.10.9/js/jquery.dataTables.min'\n",
       "}});\n",
       "require([\"datatables\"], function(){\n",
       "    console.log(\"$('#table4612217264-100292').dataTable()\");\n",
       "    $('#table4612217264-100292').dataTable({\n",
       "        \"iDisplayLength\": 50,\n",
       "        \"aLengthMenu\": [[10, 25, 50, 100, 500, 1000, -1], [10, 25, 50, 100, 500, 1000, 'All']],\n",
       "        \"pagingType\": \"full_numbers\"\n",
       "    });\n",
       "});\n",
       "</script>\n"
      ],
      "text/plain": [
       "<IPython.core.display.HTML object>"
      ]
     },
     "execution_count": 4,
     "metadata": {},
     "output_type": "execute_result"
    }
   ],
   "source": [
    "# this is from http://stev.oapd.inaf.it/cgi-bin/cmd, with the PARSEC 1.2S w/ Z= 0.000152, \n",
    "# log(age) = 9.7 to 10.13\n",
    "isoc_tab = table.Table.read('LSSTbands_FeHm2_10ishGyr_parsec.isoc', \n",
    "                            format='ascii.commented_header', header_start=15)\n",
    "print(len(isoc_tab))\n",
    "print('[Fe/H]:', np.log10(np.unique(isoc_tab['Z']).view(np.ndarray)/.0152))\n",
    "print(1e-9*10**np.unique(isoc_tab['log(age/yr)'])*u.Gyr)\n",
    "isoc_tab[:5].show_in_notebook()"
   ]
  },
  {
   "cell_type": "markdown",
   "metadata": {},
   "source": [
    "# Output Mstar/distances for ELVII halos"
   ]
  },
  {
   "cell_type": "markdown",
   "metadata": {},
   "source": [
    "## Make ELVII artificially-oriented LG where M31 is second host "
   ]
  },
  {
   "cell_type": "code",
   "execution_count": 5,
   "metadata": {
    "collapsed": false
   },
   "outputs": [
    {
     "name": "stderr",
     "output_type": "stream",
     "text": [
      "/Users/erik/miniconda3/envs/anaconda/lib/python3.5/site-packages/astropy/units/quantity.py:763: FutureWarning: elementwise comparison failed; returning scalar instead, but in the future will perform elementwise comparison\n",
      "  return super(Quantity, self).__eq__(other)\n"
     ]
    }
   ],
   "source": [
    "#m31 = SkyCoord.from_name('M31')\n",
    "m31 = SkyCoord(10.6847083*u.deg, 41.26875*u.deg, 700*u.kpc)\n",
    "\n",
    "for cat in elvii_pairs.values():\n",
    "    for i in (0, 1):\n",
    "        data_loaders.add_oriented_radecs(cat, 0, 1, target_coord=m31)\n",
    "        data_loaders.add_oriented_radecs(cat, 1, 0, target_coord=m31)"
   ]
  },
  {
   "cell_type": "code",
   "execution_count": 6,
   "metadata": {
    "collapsed": false
   },
   "outputs": [
    {
     "name": "stdout",
     "output_type": "stream",
     "text": [
      "522\n",
      "241\n",
      "302\n",
      "321\n",
      "324\n",
      "362\n",
      "466\n",
      "196\n",
      "234\n",
      "177\n",
      "438\n",
      "341\n",
      "213\n",
      "463\n",
      "263\n",
      "485\n",
      "224\n",
      "189\n",
      "492\n",
      "272\n",
      "215\n",
      "361\n",
      "308\n",
      "230\n"
     ]
    }
   ],
   "source": [
    "lsstmaxdec = 0*u.deg\n",
    "\n",
    "halonum = 0\n",
    "for cat in elvii_pairs.values():\n",
    "    halonum += 1\n",
    "    for i in (0, 1):\n",
    "        d = cat['host{}_dist'.format(i)]\n",
    "        satish = d < (cat['Rvir'][i])\n",
    "        inlsst = cat['host{}_lat'.format(i)]< lsstmaxdec\n",
    "        \n",
    "        dsub = d[inlsst&satish]\n",
    "        Mstarsub = cat['Mstar_preferred'][inlsst&satish]\n",
    "        \n",
    "        tab = table.Table()\n",
    "        tab['distance'] = dsub.to(u.kpc) \n",
    "        tab['Mstar'] = Mstarsub\n",
    "        \n",
    "        print(len(tab))\n",
    "        \n",
    "        tab.write('mwish_{}.ecsv'.format(halonum), format='ascii.ecsv')\n",
    "\n",
    "fns = !ls mwish_*.ecsv\n",
    "fnss = ' '.join(fns)\n",
    "!tar czf mwish_tabs.tar.gz $fnss\n",
    "!rm $fnss"
   ]
  },
  {
   "cell_type": "markdown",
   "metadata": {},
   "source": [
    "# Try to figure out fiber size"
   ]
  },
  {
   "cell_type": "markdown",
   "metadata": {},
   "source": [
    "## Size scaling relations "
   ]
  },
  {
   "cell_type": "code",
   "execution_count": 7,
   "metadata": {
    "collapsed": false
   },
   "outputs": [
    {
     "name": "stdout",
     "output_type": "stream",
     "text": [
      "97\n"
     ]
    },
    {
     "data": {
      "text/html": [
       "&lt;Table masked=True length=5&gt;\n",
       "<table id=\"table4485457288-136160\" class=\"table table-striped table-bordered table-condensed\">\n",
       "<thead><tr><th>GalaxyName</th><th>RA</th><th>Dec</th><th>EB-V</th><th>(m-M)o</th><th>vh(km/s)</th><th>Vmag</th><th>PA</th><th>e=1-b/a</th><th>muVo</th><th>rh(arcmins)</th><th>sigma_s(km/s)</th><th>vrot_s(km/s)</th><th>MHI</th><th>sigma_g(km/s)</th><th>vrot_g(km/s)</th><th>[Fe/H]</th><th>F</th><th>References</th></tr></thead>\n",
       "<tr><td>Bootes II</td><td>13</td><td>12</td><td>0.03</td><td>18.1</td><td>-117.0</td><td>15.4</td><td>14</td><td>0.21 0.</td><td>28.1</td><td>4.20  1.4</td><td>10.5  7.4  7.</td><td>99.9 99.9 99</td><td>0.0</td><td>00.0 00.0 00.</td><td>00.0 00.0 0</td><td>-1.79</td><td>3</td><td>(9)(10)(98</td></tr>\n",
       "<tr><td>Segue II</td><td>2</td><td>20</td><td>0.18</td><td>17.7</td><td>-39.2</td><td>15.2</td><td>18</td><td>0.15 0.</td><td>27.4</td><td>3.40  0.2</td><td>3.4  2.5  1.</td><td>99.9 99.9 99</td><td>99.0</td><td>99.9 99.9 99.</td><td>999.9 99.9 9</td><td>-2.0</td><td>1</td><td>(11)</td></tr>\n",
       "<tr><td>Willman 1</td><td>10</td><td>51</td><td>0.01</td><td>17.9</td><td>-12.3</td><td>15.2</td><td>7</td><td>0.47 0.</td><td>26.1</td><td>2.30  0.4</td><td>4.3  2.3  1.</td><td>99.9 99.9 99</td><td>0.0</td><td>00.0 00.0 00.</td><td>00.0 00.0 0</td><td>-2.1</td><td>2</td><td>(12)(13)(9</td></tr>\n",
       "<tr><td>Coma Beren</td><td>12</td><td>23</td><td>0.01</td><td>18.2</td><td>98.1</td><td>14.1</td><td>11</td><td>0.38 0.</td><td>27.3</td><td>6.00  0.6</td><td>4.6  0.8  0.</td><td>00.0 00.0 00</td><td>0.0</td><td>00.0 00.0 00.</td><td>00.0 00.0 0</td><td>-2.6</td><td>2</td><td>(5)(8)(98)</td></tr>\n",
       "<tr><td>Bootes III</td><td>13</td><td>26</td><td>0.02</td><td>18.35</td><td>197.5</td><td>12.6</td><td>9</td><td>0.50 9.</td><td>31.3</td><td>99.99  9.9</td><td>14.0  3.2  3.</td><td>99.9 99.9 99</td><td>99.0</td><td>99.9 99.9 99.</td><td>999.9 99.9 9</td><td>-2.1</td><td>2</td><td>(14)(15)(9</td></tr>\n",
       "</table><style>table.dataTable {clear: both; width: auto !important; margin: 0 !important;}\n",
       ".dataTables_info, .dataTables_length, .dataTables_filter, .dataTables_paginate{\n",
       "display: inline-block; margin-right: 1em; }\n",
       ".paginate_button { margin-right: 5px; }\n",
       "</style>\n",
       "<script>\n",
       "require.config({paths: {\n",
       "    datatables: 'https://cdn.datatables.net/1.10.9/js/jquery.dataTables.min'\n",
       "}});\n",
       "require([\"datatables\"], function(){\n",
       "    console.log(\"$('#table4485457288-136160').dataTable()\");\n",
       "    $('#table4485457288-136160').dataTable({\n",
       "        \"iDisplayLength\": 50,\n",
       "        \"aLengthMenu\": [[10, 25, 50, 100, 500, 1000, -1], [10, 25, 50, 100, 500, 1000, 'All']],\n",
       "        \"pagingType\": \"full_numbers\"\n",
       "    });\n",
       "});\n",
       "</script>\n"
      ],
      "text/plain": [
       "<IPython.core.display.HTML object>"
      ]
     },
     "execution_count": 7,
     "metadata": {},
     "output_type": "execute_result"
    }
   ],
   "source": [
    "ntab = table.Table.read('NearbyGalaxies.dat',\n",
    "                        header_start=28, data_start=35, \n",
    "                        format='ascii.fixed_width', delimiter=' ')\n",
    "print(len(ntab))\n",
    "ntab[:5].show_in_notebook()"
   ]
  },
  {
   "cell_type": "code",
   "execution_count": 8,
   "metadata": {
    "collapsed": false
   },
   "outputs": [
    {
     "data": {
      "text/plain": [
       "(1, 3)"
      ]
     },
     "execution_count": 8,
     "metadata": {},
     "output_type": "execute_result"
    },
    {
     "data": {
      "image/png": "[encoded data removed]",
      "text/plain": [
       "<matplotlib.figure.Figure at 0x113b166a0>"
      ]
     },
     "metadata": {},
     "output_type": "display_data"
    }
   ],
   "source": [
    "rh = np.array([float(s.split()[0]) for s in ntab['rh(arcmins)']])*u.arcmin\n",
    "d = Distance(distmod=ntab['(m-M)o'])\n",
    "Vabs = (ntab['Vmag']-ntab['(m-M)o'])*u.mag\n",
    "lMstar = (Vabs.value-4.83)/-2.5\n",
    "\n",
    "rp = (rh.to(u.radian).value*d).to(u.pc)\n",
    "\n",
    "dmsk = (d<300*u.kpc)&(rp<1*u.kpc)\n",
    "x = lMstar[dmsk]\n",
    "y = np.log10(rp[dmsk]/u.pc)\n",
    "\n",
    "lm = modeling.fitting.LinearLSQFitter()(modeling.models.Linear1D(), x, y)\n",
    "plt.scatter(x, y)\n",
    "plt.plot(x, lm(x))\n",
    "\n",
    "mstar_to_rphys = lambda ms: u.pc*10**lm(np.log10(ms/u.solMass))\n",
    "\n",
    "plt.xlim(2, 8)\n",
    "plt.ylim(1, 3)"
   ]
  },
  {
   "cell_type": "markdown",
   "metadata": {},
   "source": [
    "## Now make some realizations of ELVIS-like dwarfs"
   ]
  },
  {
   "cell_type": "code",
   "execution_count": 9,
   "metadata": {
    "collapsed": false
   },
   "outputs": [
    {
     "data": {
      "text/plain": [
       "(15, -5)"
      ]
     },
     "execution_count": 9,
     "metadata": {},
     "output_type": "execute_result"
    },
    {
     "data": {
      "image/png": "[encoded data removed]",
      "text/plain": [
       "<matplotlib.figure.Figure at 0x111e3bfd0>"
      ]
     },
     "metadata": {},
     "output_type": "display_data"
    }
   ],
   "source": [
    "#scope out the isochrones\n",
    "oldest_isoc = isoc_tab[isoc_tab['log(age/yr)']==10.1]\n",
    "plt.scatter(oldest_isoc['g'] - oldest_isoc['i'], oldest_isoc['r'],\n",
    "            c=oldest_isoc['int_IMF'], cmap='viridis', alpha=.5, lw=0)\n",
    "plt.colorbar()\n",
    "plt.xlim(-.5, 3)\n",
    "plt.ylim(15, -5)"
   ]
  },
  {
   "cell_type": "code",
   "execution_count": 10,
   "metadata": {
    "collapsed": false
   },
   "outputs": [],
   "source": [
    "def get_isochrone_sampler(totmass, isoc=oldest_isoc):\n",
    "    rescaled_int_IMF = isoc['int_IMF']-np.min(isoc['int_IMF'])\n",
    "    rescaled_int_IMF /= np.ptp(isoc['int_IMF'])\n",
    "    \n",
    "    n_try = 3 * totmass / np.mean(isoc['M_ini']*u.solMass)\n",
    "    sample0 = np.interp(np.random.rand(n_try), rescaled_int_IMF, \n",
    "                       np.arange(len(rescaled_int_IMF)))\n",
    "    get_col0 = lambda col: np.interp(sample0, np.arange(len(rescaled_int_IMF)),\n",
    "                                    isoc[col])\n",
    "    sample = sample0[np.cumsum(get_col0('M_ini'))*u.solMass<=totmass]\n",
    "    return lambda col: np.interp(sample, np.arange(len(rescaled_int_IMF)),\n",
    "                                    isoc[col])"
   ]
  },
  {
   "cell_type": "code",
   "execution_count": 11,
   "metadata": {
    "collapsed": false
   },
   "outputs": [],
   "source": [
    "def sample_from_plummer(n, rhalf):\n",
    "    #3D sampling\n",
    "    lon = np.random.uniform(0, 2*np.pi,n)*u.radian\n",
    "    lat = np.arcsin(np.random.uniform(-1,1, n))*u.radian\n",
    "    r = rhalf / np.sqrt(np.random.uniform(0, 1, n)**(-2.0 / 3.0) - 1)\n",
    "    \n",
    "    sph = SphericalRepresentation(lon, lat, r)\n",
    "    cyl = sph.represent_as(CylindricalRepresentation)\n",
    "    return cyl.rho, cyl.phi"
   ]
  },
  {
   "cell_type": "code",
   "execution_count": 82,
   "metadata": {
    "collapsed": false
   },
   "outputs": [],
   "source": [
    "nper = 15\n",
    "maxM = 1e6*u.solMass\n",
    "\n",
    "dists = []\n",
    "reffs = []\n",
    "Msuns = []\n",
    "\n",
    "for pairs in elvii_pairs.values():\n",
    "    for i in (0, 1):\n",
    "        tosample = pairs[pairs['host{}_dist'.format(i)] < pairs[i]['Rvir']]\n",
    "        tosample = tosample[tosample['Mstar_preferred']<maxM]\n",
    "        sample = tosample[np.random.permutation(len(tosample))[:nper]]\n",
    "        dists.extend(sample['host{}_dist'.format(i)])\n",
    "        Msuns.extend(sample['Mstar_preferred'])\n",
    "        reffs.extend(mstar_to_rphys(sample['Mstar_preferred']))\n",
    "        \n",
    "dists = u.Quantity(dists)\n",
    "reffs = u.Quantity(reffs)\n",
    "Msuns = u.Quantity(Msuns)"
   ]
  },
  {
   "cell_type": "code",
   "execution_count": 83,
   "metadata": {
    "collapsed": false
   },
   "outputs": [
    {
     "name": "stderr",
     "output_type": "stream",
     "text": [
      "/Users/erik/miniconda3/envs/anaconda/lib/python3.5/site-packages/ipykernel/__main__.py:6: DeprecationWarning: using a non-integer number instead of an integer will result in an error in the future\n"
     ]
    }
   ],
   "source": [
    "faintesttargs = 22.5*u.mag\n",
    "\n",
    "dwarfstar_tabs = []\n",
    "for d, re, M in zip(dists, reffs, Msuns):\n",
    "    isamp = get_isochrone_sampler(M)\n",
    "    r = isamp('r')*u.mag + Distance(d).distmod\n",
    "    targs = r < faintesttargs\n",
    "    rho, phi = sample_from_plummer(np.sum(targs), re)\n",
    "    \n",
    "    tab = table.Table()\n",
    "    tab['rad_phys'] = rho\n",
    "    tab['rad_sky'] = (rho/d).decompose()*u.radian\n",
    "    tab['phi'] = phi\n",
    "    tab['r_app'] = r[targs]\n",
    "    dwarfstar_tabs.append(tab)\n",
    "    "
   ]
  },
  {
   "cell_type": "code",
   "execution_count": 84,
   "metadata": {
    "collapsed": false
   },
   "outputs": [],
   "source": [
    "# show the FOVs\n",
    "seps = []\n",
    "for tab in dwarfstar_tabs:\n",
    "    x = tab['rad_sky'] * np.cos(tab['phi'])\n",
    "    y = tab['rad_sky'] * np.sin(tab['phi'])\n",
    "    if len(tab)>1:\n",
    "        sc = SkyCoord(x, y)\n",
    "        _, closest, _ = sc.match_to_catalog_sky(sc, 2)\n",
    "        seps.append(closest)\n",
    "    else:\n",
    "        seps.append(None)\n",
    "allseps = [s.to(u.arcsec).value for s in seps if s is not None]\n",
    "allseps = np.concatenate(allseps)*u.arcsec"
   ]
  },
  {
   "cell_type": "code",
   "execution_count": 85,
   "metadata": {
    "collapsed": false
   },
   "outputs": [
    {
     "data": {
      "text/plain": [
       "<matplotlib.text.Text at 0x113282d30>"
      ]
     },
     "execution_count": 85,
     "metadata": {},
     "output_type": "execute_result"
    },
    {
     "data": {
      "image/png": "[encoded data removed]",
      "text/plain": [
       "<matplotlib.figure.Figure at 0x1134a52b0>"
      ]
     },
     "metadata": {},
     "output_type": "display_data"
    }
   ],
   "source": [
    "ahist(allseps, range(0, 100), histtype='step')\n",
    "plt.axvline(5,c='k', ls=':')\n",
    "plt.axvline(10,c='k', ls=':')\n",
    "plt.axvline(20,c='k', ls=':')\n",
    "plt.xlabel('r [arcsec]')"
   ]
  },
  {
   "cell_type": "code",
   "execution_count": 97,
   "metadata": {
    "collapsed": false
   },
   "outputs": [],
   "source": [
    "maxM = 1e6*u.solMass\n",
    "minM = 1e3*u.solMass\n",
    "\n",
    "dists = []\n",
    "reffs = []\n",
    "Msuns = []\n",
    "\n",
    "for pairs in elvii_pairs.values():\n",
    "    for i in (0, 1):\n",
    "        tosample = pairs[pairs['host{}_dist'.format(i)] < pairs[i]['Rvir']]\n",
    "        sizemsk = (tosample['Mstar_preferred']>minM)&(tosample['Mstar_preferred']<maxM)\n",
    "        tosample = tosample[sizemsk]\n",
    "        sample = tosample[np.random.permutation(len(tosample))]\n",
    "        dists.extend(sample['host{}_dist'.format(i)])\n",
    "        Msuns.extend(sample['Mstar_preferred'])\n",
    "        reffs.extend(mstar_to_rphys(sample['Mstar_preferred']))\n",
    "        \n",
    "dists = u.Quantity(dists)\n",
    "reffs = u.Quantity(reffs)\n",
    "Msuns = u.Quantity(Msuns)"
   ]
  },
  {
   "cell_type": "code",
   "execution_count": 98,
   "metadata": {
    "collapsed": false
   },
   "outputs": [
    {
     "data": {
      "image/png": "[encoded data removed]",
      "text/plain": [
       "<matplotlib.figure.Figure at 0x113017438>"
      ]
     },
     "metadata": {},
     "output_type": "display_data"
    }
   ],
   "source": [
    "rsky = (reffs/dists).decompose()*u.radian\n",
    "\n",
    "ahist(rsky.to(u.arcmin), histtype='step',range=(0,10), bins=100)\n",
    "plt.tight_layout()"
   ]
  }
 ],
 "metadata": {
  "kernelspec": {
   "display_name": "Python 3",
   "language": "python",
   "name": "python3"
  },
  "language_info": {
   "codemirror_mode": {
    "name": "ipython",
    "version": 3
   },
   "file_extension": ".py",
   "mimetype": "text/x-python",
   "name": "python",
   "nbconvert_exporter": "python",
   "pygments_lexer": "ipython3",
   "version": "3.5.1"
  }
 },
 "nbformat": 4,
 "nbformat_minor": 0
}
